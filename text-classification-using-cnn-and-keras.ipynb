{
 "cells": [
  {
   "cell_type": "markdown",
   "metadata": {},
   "source": [
    "# Text Classification Example using CNN and Keras\n",
    "In this Example we will see how we can do the binary classification using CNN model with Keras framework.\n",
    "\n",
    "**It is based on following references of convolution networks:**\n",
    "\n",
    "* Convolutional Neural Networks for Sentence Classification (https://arxiv.org/pdf/1408.5882.pdf)\n",
    "* A Convolutional Neural Network for Modelling Sentences (https://arxiv.org/pdf/1404.2188.pdf)\n",
    "* Convolutional Neural Networks (http://web.stanford.edu/class/cs224n/readings/cs224n-2019-notes08-CNN.pdf)\n",
    "\n",
    "**We have used the SMS Spam Data set in our example, which is available at the following location**\n",
    "* SMS Spam Collection Data Set (https://archive.ics.uci.edu/ml/datasets/sms+spam+collection)\n",
    "\n",
    "In this example our model will learn to classify a SMS message in spam or ham. \n"
   ]
  },
  {
   "cell_type": "code",
   "execution_count": 1,
   "metadata": {},
   "outputs": [],
   "source": [
    "# Download the SMS Spam data file if doesn't exist already\n",
    "import os\n",
    "import requests # This library is used to make requests to internet\n",
    "import zipfile\n",
    "\n",
    "data_file = \"data/SMSSpamCollection\"\n",
    "\n",
    "# Download and unzip the data file in data directory in case it doesn't exists already\n",
    "if not os.path.exists(data_file):\n",
    "    data_file_dir = os.path.dirname(data_file)\n",
    "    if not os.path.exists(data_file_dir): os.makedirs(data_file_dir)\n",
    "\n",
    "    # Storing url of dataset\n",
    "    url = 'https://archive.ics.uci.edu/ml/machine-learning-databases/00228/smsspamcollection.zip'\n",
    "    r = requests.get(url, allow_redirects=True)\n",
    "    zip_file_download = data_file_dir + '/smsspamcollection.zip'\n",
    "\n",
    "    # Writing the content of above request to 'smsspamcollection.zip' file\n",
    "    open(zip_file_download, 'wb').write(r.content)\n",
    "    \n",
    "    # Extract the zip file\n",
    "    with zipfile.ZipFile(zip_file_download,\"r\") as zip_ref:\n",
    "        zip_ref.extractall(data_file_dir)\n"
   ]
  },
  {
   "cell_type": "code",
   "execution_count": 2,
   "metadata": {},
   "outputs": [
    {
     "name": "stdout",
     "output_type": "stream",
     "text": [
      "Loading data (labels and sentences) from the SMSSpamCollection file...\n",
      "[0 0 1 0 0]\n",
      "['Go until jurong point, crazy.. Available only in bugis n great world la e buffet... Cine there got amore wat...'\n",
      " 'Ok lar... Joking wif u oni...'\n",
      " \"Free entry in 2 a wkly comp to win FA Cup final tkts 21st May 2005. Text FA to 87121 to receive entry question(std txt rate)T&C's apply 08452810075over18's\"\n",
      " 'U dun say so early hor... U c already then say...'\n",
      " \"Nah I don't think he goes to usf, he lives around here though\"]\n"
     ]
    }
   ],
   "source": [
    "from util import load_data_and_labels_from_csv_file, build_vocab, pad_sentences, text_to_sequence, save_vocab_json, generate_word_level_features\n",
    "\n",
    "print(\"Loading data (labels and sentences) from the SMSSpamCollection file...\")\n",
    "labels, sentences = load_data_and_labels_from_csv_file(data_file)\n",
    "\n",
    "print(labels[:5])\n",
    "print(sentences[:5])"
   ]
  },
  {
   "cell_type": "code",
   "execution_count": 3,
   "metadata": {},
   "outputs": [
    {
     "data": {
      "text/plain": [
       "array([list(['go', 'until', 'jurong', 'point', 'crazy', 'available', 'only', 'in', 'bugis', 'n', 'great', 'world', 'la', 'e', 'buffet', 'cine', 'there', 'got', 'amore', 'wat']),\n",
       "       list(['ok', 'lar', 'joking', 'wif', 'u', 'oni']),\n",
       "       list(['free', 'entry', 'in', '<n/>', 'a', 'wkly', 'comp', 'to', 'win', 'fa', 'cup', 'final', 'tkts', '21st', 'may', '<n/>', 'text', 'fa', 'to', '<n/>', 'to', 'receive', 'entry', 'question', 'std', 'txt', 'rate', 't', 'cs', 'apply', '0845281075over18s']),\n",
       "       list(['u', 'dun', 'say', 'so', 'early', 'hor', 'u', 'c', 'already', 'then', 'say']),\n",
       "       list(['nah', 'i', 'dont', 'think', 'he', 'goes', 'to', 'usf', 'he', 'lives', 'around', 'here', 'though'])],\n",
       "      dtype=object)"
      ]
     },
     "execution_count": 3,
     "metadata": {},
     "output_type": "execute_result"
    }
   ],
   "source": [
    "import numpy as np\n",
    "\n",
    "# Param defining max features consider in a sentence\n",
    "params = {'max_words_features': 500} \n",
    "\n",
    "# Generate word features for every message\n",
    "lines_words_level_features = generate_word_level_features(sentences, params['max_words_features'])\n",
    "# Redefine the max_words_features in case existing data contains the \n",
    "# max word featues less then define one for all the messages\n",
    "params['max_words_features'] = max([len(lines) for lines in lines_words_level_features])\n",
    "\n",
    "# Convert to numpy array\n",
    "lines_words_level_features = np.array(lines_words_level_features)\n",
    "lines_words_level_features[:5]"
   ]
  },
  {
   "cell_type": "code",
   "execution_count": 4,
   "metadata": {},
   "outputs": [
    {
     "name": "stdout",
     "output_type": "stream",
     "text": [
      "Build the vocabulary, assigning a unique index value to every word\n",
      "0 <UNK/> [0, inf]\n",
      "1 <PAD/> [1, inf]\n",
      "2 <n/> [2, 2601]\n",
      "3 i [3, 2294]\n",
      "4 to [4, 2252]\n",
      "5 you [5, 2145]\n",
      "6 a [6, 1448]\n",
      "7 the [7, 1337]\n",
      "8 u [8, 1173]\n",
      "9 and [9, 974]\n"
     ]
    }
   ],
   "source": [
    "# Build vocabulary, assigning a unique index value to every word\n",
    "# Special tokens <UNK/> for unknown words, <PAD/> for padding a sentence, \n",
    "# Other special tokens are <n\\> if a word contains all numeric charactrs, \n",
    "# and <sd\\> is all special characters with or without digits\n",
    "print(\"Build the vocabulary, assigning a unique index value to every word\")\n",
    "vocabulary = build_vocab(lines_words_level_features, max_vocab_size=10000)\n",
    "\n",
    "import itertools \n",
    "# Print 10 Vocabulary items\n",
    "for i, val in enumerate(itertools.islice(vocabulary, 10)):\n",
    "    print(i, val, vocabulary[val])"
   ]
  },
  {
   "cell_type": "code",
   "execution_count": 5,
   "metadata": {},
   "outputs": [
    {
     "name": "stdout",
     "output_type": "stream",
     "text": [
      "Padding sentences...\n",
      "The sequence length is:  171\n"
     ]
    },
    {
     "data": {
      "text/plain": [
       "['go',\n",
       " 'until',\n",
       " 'jurong',\n",
       " 'point',\n",
       " 'crazy',\n",
       " 'available',\n",
       " 'only',\n",
       " 'in',\n",
       " 'bugis',\n",
       " 'n',\n",
       " 'great',\n",
       " 'world',\n",
       " 'la',\n",
       " 'e',\n",
       " 'buffet',\n",
       " 'cine',\n",
       " 'there',\n",
       " 'got',\n",
       " 'amore',\n",
       " 'wat',\n",
       " '<PAD/>',\n",
       " '<PAD/>',\n",
       " '<PAD/>',\n",
       " '<PAD/>',\n",
       " '<PAD/>',\n",
       " '<PAD/>',\n",
       " '<PAD/>',\n",
       " '<PAD/>',\n",
       " '<PAD/>',\n",
       " '<PAD/>']"
      ]
     },
     "execution_count": 5,
     "metadata": {},
     "output_type": "execute_result"
    }
   ],
   "source": [
    "# Pad sentence\n",
    "print(\"Padding sentences...\")\n",
    "x_text = pad_sentences(lines_words_level_features, max_sequence_length=params['max_words_features'])\n",
    "\n",
    "# Get max sequence length, should be equal to max_words_features\n",
    "seq_len = len(x_text[0]) \n",
    "print(\"The sequence length is: \", seq_len)\n",
    "x_text[0][:30]"
   ]
  },
  {
   "cell_type": "code",
   "execution_count": 6,
   "metadata": {},
   "outputs": [
    {
     "data": {
      "text/plain": [
       "array([  50,  446, 4102,  787,  705,  676,   68,   10, 1239,   90,  125,\n",
       "        363, 1240,  150, 2796, 1241,   70,   60, 4103,  141,    1,    1,\n",
       "          1,    1,    1,    1,    1,    1,    1,    1,    1,    1,    1,\n",
       "          1,    1,    1,    1,    1,    1,    1,    1,    1,    1,    1,\n",
       "          1,    1,    1,    1,    1,    1,    1,    1,    1,    1,    1,\n",
       "          1,    1,    1,    1,    1,    1,    1,    1,    1,    1,    1,\n",
       "          1,    1,    1,    1,    1,    1,    1,    1,    1,    1,    1,\n",
       "          1,    1,    1,    1,    1,    1,    1,    1,    1,    1,    1,\n",
       "          1,    1,    1,    1,    1,    1,    1,    1,    1,    1,    1,\n",
       "          1,    1,    1,    1,    1,    1,    1,    1,    1,    1,    1,\n",
       "          1,    1,    1,    1,    1,    1,    1,    1,    1,    1,    1,\n",
       "          1,    1,    1,    1,    1,    1,    1,    1,    1,    1,    1,\n",
       "          1,    1,    1,    1,    1,    1,    1,    1,    1,    1,    1,\n",
       "          1,    1,    1,    1,    1,    1,    1,    1,    1,    1,    1,\n",
       "          1,    1,    1,    1,    1,    1,    1,    1,    1,    1,    1,\n",
       "          1,    1,    1,    1,    1,    1])"
      ]
     },
     "execution_count": 6,
     "metadata": {},
     "output_type": "execute_result"
    }
   ],
   "source": [
    "# Represent sentence with word index, using word index to represent a sentence\n",
    "x = text_to_sequence(x_text, vocabulary)\n",
    "x[0]"
   ]
  },
  {
   "cell_type": "code",
   "execution_count": 7,
   "metadata": {},
   "outputs": [
    {
     "name": "stdout",
     "output_type": "stream",
     "text": [
      "[[  52   70  253   36    6   51  879   81    1    1    1    1    1    1\n",
      "     1    1    1    1    1    1    1    1    1    1    1    1    1    1\n",
      "     1    1    1    1    1    1    1    1    1    1    1    1    1    1\n",
      "     1    1    1    1    1    1    1    1    1    1    1    1    1    1\n",
      "     1    1    1    1    1    1    1    1    1    1    1    1    1    1\n",
      "     1    1    1    1    1    1    1    1    1    1    1    1    1    1\n",
      "     1    1    1    1    1    1    1    1    1    1    1    1    1    1\n",
      "     1    1    1    1    1    1    1    1    1    1    1    1    1    1\n",
      "     1    1    1    1    1    1    1    1    1    1    1    1    1    1\n",
      "     1    1    1    1    1    1    1    1    1    1    1    1    1    1\n",
      "     1    1    1    1    1    1    1    1    1    1    1    1    1    1\n",
      "     1    1    1    1    1    1    1    1    1    1    1    1    1    1\n",
      "     1    1    1]\n",
      " [3828  177   14   15 1943   17    6  361 6670   49 3828  717  102  901\n",
      "  6671  101    5   29   31  297  163   26   71    6  361   10    6 6672\n",
      "     2    1    1    1    1    1    1    1    1    1    1    1    1    1\n",
      "     1    1    1    1    1    1    1    1    1    1    1    1    1    1\n",
      "     1    1    1    1    1    1    1    1    1    1    1    1    1    1\n",
      "     1    1    1    1    1    1    1    1    1    1    1    1    1    1\n",
      "     1    1    1    1    1    1    1    1    1    1    1    1    1    1\n",
      "     1    1    1    1    1    1    1    1    1    1    1    1    1    1\n",
      "     1    1    1    1    1    1    1    1    1    1    1    1    1    1\n",
      "     1    1    1    1    1    1    1    1    1    1    1    1    1    1\n",
      "     1    1    1    1    1    1    1    1    1    1    1    1    1    1\n",
      "     1    1    1    1    1    1    1    1    1    1    1    1    1    1\n",
      "     1    1    1]\n",
      " [ 718    7  911 2891 1274  292   75   15 4250    1    1    1    1    1\n",
      "     1    1    1    1    1    1    1    1    1    1    1    1    1    1\n",
      "     1    1    1    1    1    1    1    1    1    1    1    1    1    1\n",
      "     1    1    1    1    1    1    1    1    1    1    1    1    1    1\n",
      "     1    1    1    1    1    1    1    1    1    1    1    1    1    1\n",
      "     1    1    1    1    1    1    1    1    1    1    1    1    1    1\n",
      "     1    1    1    1    1    1    1    1    1    1    1    1    1    1\n",
      "     1    1    1    1    1    1    1    1    1    1    1    1    1    1\n",
      "     1    1    1    1    1    1    1    1    1    1    1    1    1    1\n",
      "     1    1    1    1    1    1    1    1    1    1    1    1    1    1\n",
      "     1    1    1    1    1    1    1    1    1    1    1    1    1    1\n",
      "     1    1    1    1    1    1    1    1    1    1    1    1    1    1\n",
      "     1    1    1]]\n",
      "[0 1 0]\n"
     ]
    }
   ],
   "source": [
    "# Shuffle data\n",
    "#np.random.seed(1) #same shuffling each time\n",
    "shuffle_indices = np.random.permutation(np.arange(len(labels)))\n",
    "x = x[shuffle_indices]\n",
    "labels = labels[shuffle_indices]\n",
    "print(x[:3])\n",
    "print(labels[:3])"
   ]
  },
  {
   "cell_type": "code",
   "execution_count": 8,
   "metadata": {},
   "outputs": [
    {
     "name": "stdout",
     "output_type": "stream",
     "text": [
      "Creating Model...\n",
      "Model: \"functional_1\"\n",
      "__________________________________________________________________________________________________\n",
      "Layer (type)                    Output Shape         Param #     Connected to                     \n",
      "==================================================================================================\n",
      "input_1 (InputLayer)            [(None, 171)]        0                                            \n",
      "__________________________________________________________________________________________________\n",
      "embedding (Embedding)           (None, 171, 300)     2598900     input_1[0][0]                    \n",
      "__________________________________________________________________________________________________\n",
      "reshape (Reshape)               (None, 171, 300, 1)  0           embedding[0][0]                  \n",
      "__________________________________________________________________________________________________\n",
      "conv2d (Conv2D)                 (None, 169, 1, 512)  461312      reshape[0][0]                    \n",
      "__________________________________________________________________________________________________\n",
      "conv2d_1 (Conv2D)               (None, 168, 1, 512)  614912      reshape[0][0]                    \n",
      "__________________________________________________________________________________________________\n",
      "conv2d_2 (Conv2D)               (None, 167, 1, 512)  768512      reshape[0][0]                    \n",
      "__________________________________________________________________________________________________\n",
      "max_pooling2d (MaxPooling2D)    (None, 1, 1, 512)    0           conv2d[0][0]                     \n",
      "__________________________________________________________________________________________________\n",
      "max_pooling2d_1 (MaxPooling2D)  (None, 1, 1, 512)    0           conv2d_1[0][0]                   \n",
      "__________________________________________________________________________________________________\n",
      "max_pooling2d_2 (MaxPooling2D)  (None, 1, 1, 512)    0           conv2d_2[0][0]                   \n",
      "__________________________________________________________________________________________________\n",
      "concatenate (Concatenate)       (None, 3, 1, 512)    0           max_pooling2d[0][0]              \n",
      "                                                                 max_pooling2d_1[0][0]            \n",
      "                                                                 max_pooling2d_2[0][0]            \n",
      "__________________________________________________________________________________________________\n",
      "flatten (Flatten)               (None, 1536)         0           concatenate[0][0]                \n",
      "__________________________________________________________________________________________________\n",
      "dropout (Dropout)               (None, 1536)         0           flatten[0][0]                    \n",
      "__________________________________________________________________________________________________\n",
      "dense (Dense)                   (None, 1)            1537        dropout[0][0]                    \n",
      "==================================================================================================\n",
      "Total params: 4,445,173\n",
      "Trainable params: 4,445,173\n",
      "Non-trainable params: 0\n",
      "__________________________________________________________________________________________________\n"
     ]
    }
   ],
   "source": [
    "import keras\n",
    "from keras.layers import Embedding, Reshape, Conv2D, MaxPool2D, Concatenate, Flatten, Dropout, Dense\n",
    "from keras.models import Input, Model\n",
    "\n",
    "\"\"\"\n",
    "## Build CNN model\n",
    "\"\"\"\n",
    "vocab_size_or_total_features = len(vocabulary) \n",
    "\n",
    "embed_dim = 300 \n",
    "filter_sizes = [3,4,5]\n",
    "num_filters = 512\n",
    "drop_out = 0.5\n",
    "\n",
    "# this returns a tensor\n",
    "print(\"Creating Model...\")\n",
    "inputs = Input(shape=(seq_len,), dtype='int32')\n",
    "embedding = Embedding(input_dim=vocab_size_or_total_features, output_dim=embed_dim, input_length=seq_len)(inputs)\n",
    "reshape = Reshape((seq_len,embed_dim,1))(embedding)\n",
    "\n",
    "# Defining Conv and Maxpool Layer for each filter_size\n",
    "maxpool_for_each_filter = []\n",
    "for filter_size in filter_sizes:\n",
    "    conv = Conv2D(num_filters, kernel_size=(filter_size, embed_dim), padding='valid', kernel_initializer='normal', activation='relu')(reshape)\n",
    "    maxpool = MaxPool2D(pool_size=(seq_len - filter_size + 1, 1), strides=(1,1), padding='valid')(conv)\n",
    "    maxpool_for_each_filter.append(maxpool)\n",
    "\n",
    "# Concat all max pool layers\n",
    "concatenate_maxpool = Concatenate(axis=1)(maxpool_for_each_filter)\n",
    "\n",
    "flatten = Flatten()(concatenate_maxpool)\n",
    "dropout = Dropout(drop_out)(flatten)\n",
    "output = Dense(units=1, activation='sigmoid')(dropout)\n",
    "\n",
    "model = Model(inputs=inputs, outputs=output) # Create model\n",
    "model.summary()\n"
   ]
  },
  {
   "cell_type": "code",
   "execution_count": 9,
   "metadata": {},
   "outputs": [
    {
     "name": "stdout",
     "output_type": "stream",
     "text": [
      "Traning Model...\n",
      "Epoch 1/20\n",
      "  1/140 [..............................] - ETA: 0s - loss: 0.7006 - accuracy: 0.4375WARNING:tensorflow:From /usr/local/lib/python3.8/site-packages/tensorflow/python/ops/summary_ops_v2.py:1277: stop (from tensorflow.python.eager.profiler) is deprecated and will be removed after 2020-07-01.\n",
      "Instructions for updating:\n",
      "use `tf.profiler.experimental.stop` instead.\n",
      "140/140 [==============================] - ETA: 0s - loss: 0.3777 - accuracy: 0.8540\n",
      "Epoch 00001: val_accuracy improved from -inf to 0.88969, saving model to model/cp.ckpt\n",
      "WARNING:tensorflow:From /usr/local/lib/python3.8/site-packages/tensorflow/python/training/tracking/tracking.py:111: Model.state_updates (from tensorflow.python.keras.engine.training) is deprecated and will be removed in a future version.\n",
      "Instructions for updating:\n",
      "This property should not be used in TensorFlow 2.0, as updates are applied automatically.\n",
      "WARNING:tensorflow:From /usr/local/lib/python3.8/site-packages/tensorflow/python/training/tracking/tracking.py:111: Layer.updates (from tensorflow.python.keras.engine.base_layer) is deprecated and will be removed in a future version.\n",
      "Instructions for updating:\n",
      "This property should not be used in TensorFlow 2.0, as updates are applied automatically.\n",
      "INFO:tensorflow:Assets written to: model/cp.ckpt/assets\n",
      "140/140 [==============================] - 37s 267ms/step - loss: 0.3777 - accuracy: 0.8540 - val_loss: 0.2486 - val_accuracy: 0.8897\n",
      "Epoch 2/20\n",
      "140/140 [==============================] - ETA: 0s - loss: 0.1998 - accuracy: 0.9282\n",
      "Epoch 00002: val_accuracy improved from 0.88969 to 0.96861, saving model to model/cp.ckpt\n",
      "INFO:tensorflow:Assets written to: model/cp.ckpt/assets\n",
      "140/140 [==============================] - 100s 716ms/step - loss: 0.1998 - accuracy: 0.9282 - val_loss: 0.1376 - val_accuracy: 0.9686\n",
      "Epoch 3/20\n",
      "140/140 [==============================] - ETA: 0s - loss: 0.1197 - accuracy: 0.9720\n",
      "Epoch 00003: val_accuracy improved from 0.96861 to 0.97399, saving model to model/cp.ckpt\n",
      "INFO:tensorflow:Assets written to: model/cp.ckpt/assets\n",
      "140/140 [==============================] - 95s 681ms/step - loss: 0.1197 - accuracy: 0.9720 - val_loss: 0.0962 - val_accuracy: 0.9740\n",
      "Epoch 4/20\n",
      "140/140 [==============================] - ETA: 0s - loss: 0.0823 - accuracy: 0.9787\n",
      "Epoch 00004: val_accuracy improved from 0.97399 to 0.97758, saving model to model/cp.ckpt\n",
      "INFO:tensorflow:Assets written to: model/cp.ckpt/assets\n",
      "140/140 [==============================] - 74s 531ms/step - loss: 0.0823 - accuracy: 0.9787 - val_loss: 0.0735 - val_accuracy: 0.9776\n",
      "Epoch 5/20\n",
      "140/140 [==============================] - ETA: 0s - loss: 0.0573 - accuracy: 0.9827\n",
      "Epoch 00005: val_accuracy improved from 0.97758 to 0.98206, saving model to model/cp.ckpt\n",
      "INFO:tensorflow:Assets written to: model/cp.ckpt/assets\n",
      "140/140 [==============================] - 105s 746ms/step - loss: 0.0573 - accuracy: 0.9827 - val_loss: 0.0566 - val_accuracy: 0.9821\n",
      "Epoch 6/20\n",
      "140/140 [==============================] - ETA: 0s - loss: 0.0415 - accuracy: 0.9899\n",
      "Epoch 00006: val_accuracy improved from 0.98206 to 0.98834, saving model to model/cp.ckpt\n",
      "INFO:tensorflow:Assets written to: model/cp.ckpt/assets\n",
      "140/140 [==============================] - 107s 765ms/step - loss: 0.0415 - accuracy: 0.9899 - val_loss: 0.0463 - val_accuracy: 0.9883\n",
      "Epoch 7/20\n",
      "140/140 [==============================] - ETA: 0s - loss: 0.0300 - accuracy: 0.9919\n",
      "Epoch 00007: val_accuracy improved from 0.98834 to 0.99013, saving model to model/cp.ckpt\n",
      "INFO:tensorflow:Assets written to: model/cp.ckpt/assets\n",
      "140/140 [==============================] - 89s 638ms/step - loss: 0.0300 - accuracy: 0.9919 - val_loss: 0.0394 - val_accuracy: 0.9901\n",
      "Epoch 8/20\n",
      "140/140 [==============================] - ETA: 0s - loss: 0.0222 - accuracy: 0.9951\n",
      "Epoch 00008: val_accuracy did not improve from 0.99013\n",
      "140/140 [==============================] - 147s 1s/step - loss: 0.0222 - accuracy: 0.9951 - val_loss: 0.0360 - val_accuracy: 0.9901\n",
      "Epoch 9/20\n",
      "140/140 [==============================] - ETA: 0s - loss: 0.0164 - accuracy: 0.9969\n",
      "Epoch 00009: val_accuracy improved from 0.99013 to 0.99103, saving model to model/cp.ckpt\n",
      "INFO:tensorflow:Assets written to: model/cp.ckpt/assets\n",
      "140/140 [==============================] - 167s 1s/step - loss: 0.0164 - accuracy: 0.9969 - val_loss: 0.0345 - val_accuracy: 0.9910\n",
      "Epoch 10/20\n",
      "140/140 [==============================] - ETA: 0s - loss: 0.0127 - accuracy: 0.9980\n",
      "Epoch 00010: val_accuracy improved from 0.99103 to 0.99193, saving model to model/cp.ckpt\n",
      "INFO:tensorflow:Assets written to: model/cp.ckpt/assets\n",
      "140/140 [==============================] - 186s 1s/step - loss: 0.0127 - accuracy: 0.9980 - val_loss: 0.0322 - val_accuracy: 0.9919\n",
      "Epoch 11/20\n",
      "140/140 [==============================] - ETA: 0s - loss: 0.0095 - accuracy: 0.9989\n",
      "Epoch 00011: val_accuracy improved from 0.99193 to 0.99372, saving model to model/cp.ckpt\n",
      "INFO:tensorflow:Assets written to: model/cp.ckpt/assets\n",
      "140/140 [==============================] - 133s 947ms/step - loss: 0.0095 - accuracy: 0.9989 - val_loss: 0.0303 - val_accuracy: 0.9937\n",
      "Epoch 12/20\n",
      "140/140 [==============================] - ETA: 0s - loss: 0.0076 - accuracy: 0.9991\n",
      "Epoch 00012: val_accuracy did not improve from 0.99372\n",
      "140/140 [==============================] - 98s 700ms/step - loss: 0.0076 - accuracy: 0.9991 - val_loss: 0.0298 - val_accuracy: 0.9937\n",
      "Epoch 13/20\n",
      "140/140 [==============================] - ETA: 0s - loss: 0.0059 - accuracy: 0.9993\n",
      "Epoch 00013: val_accuracy did not improve from 0.99372\n",
      "140/140 [==============================] - 91s 648ms/step - loss: 0.0059 - accuracy: 0.9993 - val_loss: 0.0293 - val_accuracy: 0.9937\n",
      "Epoch 14/20\n",
      "140/140 [==============================] - ETA: 0s - loss: 0.0046 - accuracy: 0.9996\n",
      "Epoch 00014: val_accuracy did not improve from 0.99372\n",
      "140/140 [==============================] - 109s 778ms/step - loss: 0.0046 - accuracy: 0.9996 - val_loss: 0.0287 - val_accuracy: 0.9937\n",
      "Epoch 15/20\n",
      "140/140 [==============================] - ETA: 0s - loss: 0.0035 - accuracy: 0.9998\n",
      "Epoch 00015: val_accuracy did not improve from 0.99372\n",
      "140/140 [==============================] - 113s 808ms/step - loss: 0.0035 - accuracy: 0.9998 - val_loss: 0.0286 - val_accuracy: 0.9937\n",
      "Epoch 16/20\n",
      "140/140 [==============================] - ETA: 0s - loss: 0.0029 - accuracy: 0.9998\n",
      "Epoch 00016: val_accuracy did not improve from 0.99372\n",
      "140/140 [==============================] - 113s 804ms/step - loss: 0.0029 - accuracy: 0.9998 - val_loss: 0.0282 - val_accuracy: 0.9937\n",
      "Epoch 17/20\n",
      "140/140 [==============================] - ETA: 0s - loss: 0.0024 - accuracy: 0.9998\n",
      "Epoch 00017: val_accuracy did not improve from 0.99372\n",
      "140/140 [==============================] - 112s 797ms/step - loss: 0.0024 - accuracy: 0.9998 - val_loss: 0.0280 - val_accuracy: 0.9937\n",
      "Epoch 18/20\n",
      "140/140 [==============================] - ETA: 0s - loss: 0.0020 - accuracy: 0.9998\n",
      "Epoch 00018: val_accuracy did not improve from 0.99372\n",
      "140/140 [==============================] - 108s 773ms/step - loss: 0.0020 - accuracy: 0.9998 - val_loss: 0.0280 - val_accuracy: 0.9937\n",
      "Epoch 19/20\n",
      "140/140 [==============================] - ETA: 0s - loss: 0.0017 - accuracy: 0.9998\n",
      "Epoch 00019: val_accuracy did not improve from 0.99372\n",
      "140/140 [==============================] - 113s 811ms/step - loss: 0.0017 - accuracy: 0.9998 - val_loss: 0.0281 - val_accuracy: 0.9937\n",
      "Epoch 20/20\n",
      "140/140 [==============================] - ETA: 0s - loss: 0.0014 - accuracy: 1.0000\n",
      "Epoch 00020: val_accuracy did not improve from 0.99372\n",
      "140/140 [==============================] - 114s 818ms/step - loss: 0.0014 - accuracy: 1.0000 - val_loss: 0.0279 - val_accuracy: 0.9937\n"
     ]
    }
   ],
   "source": [
    "from keras.callbacks import ModelCheckpoint \n",
    "from keras.optimizers import Adam\n",
    "\n",
    "checkpoint_path = \"model/cp.ckpt\"\n",
    "checkpoint_dir = os.path.dirname(checkpoint_path)\n",
    "\n",
    "# Create check_point dir if not already exists\n",
    "if not os.path.exists(checkpoint_dir): os.makedirs(checkpoint_dir)\n",
    "\n",
    "# Save Vocabulary in checkpoint directory\n",
    "vocab_file = checkpoint_dir + \"/vocab.json\"\n",
    "save_vocab_json(vocab_file, vocabulary, params)\n",
    "\n",
    "# Define the checkpoint\n",
    "checkpoint = ModelCheckpoint(filepath=checkpoint_path,  monitor='val_accuracy', verbose=1, save_best_only=True, mode='auto') # Create callback to save the weights\n",
    "# Trnsorboard settings\n",
    "tensorboard_callback = keras.callbacks.TensorBoard(log_dir=checkpoint_dir, histogram_freq=0)\n",
    "# Optimizer settings\n",
    "adam = Adam(lr=1e-4, beta_1=0.9, beta_2=0.999, epsilon=1e-08, decay=0.0)\n",
    "model.compile(optimizer=adam, loss='binary_crossentropy', metrics=['accuracy'])\n",
    "\n",
    "# Paameters\n",
    "epochs = 20\n",
    "batch_size = 32\n",
    "verbose = 1\n",
    "validation_split = 0.2\n",
    "print(\"Traning Model...\")\n",
    "history = model.fit(x, labels, batch_size=batch_size, epochs=epochs, verbose=verbose, validation_split=validation_split, callbacks=[checkpoint, tensorboard_callback])"
   ]
  },
  {
   "cell_type": "code",
   "execution_count": 10,
   "metadata": {},
   "outputs": [
    {
     "name": "stdout",
     "output_type": "stream",
     "text": [
      "dict_keys(['loss', 'accuracy', 'val_loss', 'val_accuracy'])\n"
     ]
    },
    {
     "data": {
      "image/png": "[encoded data removed]",
      "text/plain": [
       "<Figure size 432x288 with 1 Axes>"
      ]
     },
     "metadata": {
      "needs_background": "light"
     },
     "output_type": "display_data"
    },
    {
     "data": {
      "image/png": "[encoded data removed]",
      "text/plain": [
       "<Figure size 432x288 with 1 Axes>"
      ]
     },
     "metadata": {
      "needs_background": "light"
     },
     "output_type": "display_data"
    }
   ],
   "source": [
    "# Plot the accuracy, Val_accuracy and loss\n",
    "import matplotlib.pyplot as plt\n",
    "\n",
    "# list all data in history\n",
    "print(history.history.keys())\n",
    "# summarize history for accuracy\n",
    "plt.plot(history.history['accuracy'])\n",
    "plt.plot(history.history['val_accuracy'])\n",
    "plt.title('model accuracy')\n",
    "plt.ylabel('accuracy')\n",
    "plt.xlabel('epoch')\n",
    "plt.legend(['train', 'test'], loc='upper left')\n",
    "plt.show()\n",
    "# summarize history for loss\n",
    "plt.plot(history.history['loss'])\n",
    "plt.plot(history.history['val_loss'])\n",
    "plt.title('model loss')\n",
    "plt.ylabel('loss')\n",
    "plt.xlabel('epoch')\n",
    "plt.legend(['train', 'test'], loc='upper left')\n",
    "plt.show()"
   ]
  },
  {
   "cell_type": "code",
   "execution_count": 11,
   "metadata": {},
   "outputs": [
    {
     "name": "stdout",
     "output_type": "stream",
     "text": [
      "Generate predictions\n",
      "Text is: \t Free entry in 2 a wkly comp to win FA Cup final tkts 21st May 2005. Text FA to 87121 to receive entry question(std txt rate)T&C's apply 08452810075over18's\n",
      "predicted spam with spam prob  [0.9999474]\n",
      "Text is: \t I'm gonna be home soon and i don't want to talk about this stuff anymore tonight, k? I've cried enough today.\n",
      "predicted ham with spam prob  [0.00107771]\n"
     ]
    }
   ],
   "source": [
    "# Prediction of given text\n",
    "\n",
    "x_text = [\"Free entry in 2 a wkly comp to win FA Cup final tkts 21st May 2005. Text FA to 87121 to receive entry question(std txt rate)T&C's apply 08452810075over18's\", \n",
    "          \"I'm gonna be home soon and i don't want to talk about this stuff anymore tonight, k? I've cried enough today.\"]\n",
    "\n",
    "lines_words_level_features = generate_word_level_features(x_text, params['max_words_features'])\n",
    "lines_words_level_features = np.array(lines_words_level_features)\n",
    "\n",
    "seq_len = params['max_words_features'] \n",
    "\n",
    "x = pad_sentences(lines_words_level_features, max_sequence_length=seq_len, is_max_sequence_length_modifiable=False)\n",
    "x = text_to_sequence(x, vocabulary)\n",
    "\n",
    "print(\"Generate predictions\")\n",
    "predictions = model.predict(x)\n",
    "count = 0 \n",
    "for text in x_text:\n",
    "    print(\"Text is: \\t\", text)\n",
    "    if (predictions[count] > 0.5):\n",
    "        print(\"predicted spam with spam prob \", predictions[count])\n",
    "    else:\n",
    "        print(\"predicted ham with spam prob \", predictions[count])\n",
    "    count += 1 \n"
   ]
  }
 ],
 "metadata": {
  "kernelspec": {
   "display_name": "Python 3",
   "language": "python",
   "name": "python3"
  },
  "language_info": {
   "codemirror_mode": {
    "name": "ipython",
    "version": 3
   },
   "file_extension": ".py",
   "mimetype": "text/x-python",
   "name": "python",
   "nbconvert_exporter": "python",
   "pygments_lexer": "ipython3",
   "version": "3.8.6"
  }
 },
 "nbformat": 4,
 "nbformat_minor": 4
}
